{
 "cells": [
  {
   "cell_type": "code",
   "execution_count": 3,
   "id": "8a8261dd",
   "metadata": {},
   "outputs": [
    {
     "name": "stdout",
     "output_type": "stream",
     "text": [
      "Year with most additions: 2017\n"
     ]
    }
   ],
   "source": [
    "import pandas as pd\n",
    "\n",
    "# Get S&P 500 company table from Wikipedia\n",
    "url = \"https://en.wikipedia.org/wiki/List_of_S%26P_500_companies\"\n",
    "tables = pd.read_html(url)\n",
    "df = tables[0]\n",
    "\n",
    "# Check column for date added\n",
    "if 'Date added' in df.columns:\n",
    "    df['Date added'] = pd.to_datetime(df['Date added'], errors='coerce')\n",
    "    df['Year added'] = df['Date added'].dt.year\n",
    "    year_counts = df['Year added'].value_counts().drop(1957, errors='ignore')\n",
    "    most_additions_year = year_counts.idxmax()\n",
    "    print(\"Year with most additions:\", most_additions_year)\n",
    "else:\n",
    "    print(\"No 'Date added' column found.\")\n"
   ]
  },
  {
   "cell_type": "code",
   "execution_count": 5,
   "id": "8282f308",
   "metadata": {},
   "outputs": [
    {
     "name": "stdout",
     "output_type": "stream",
     "text": [
      "Collecting yfinance\n",
      "  Downloading yfinance-0.2.61-py2.py3-none-any.whl.metadata (5.8 kB)\n",
      "Requirement already satisfied: pandas>=1.3.0 in /home/codespace/.local/lib/python3.12/site-packages (from yfinance) (2.2.3)\n",
      "Requirement already satisfied: numpy>=1.16.5 in /home/codespace/.local/lib/python3.12/site-packages (from yfinance) (2.2.4)\n",
      "Requirement already satisfied: requests>=2.31 in /home/codespace/.local/lib/python3.12/site-packages (from yfinance) (2.32.3)\n",
      "Collecting multitasking>=0.0.7 (from yfinance)\n",
      "  Downloading multitasking-0.0.11-py3-none-any.whl.metadata (5.5 kB)\n",
      "Requirement already satisfied: platformdirs>=2.0.0 in /home/codespace/.local/lib/python3.12/site-packages (from yfinance) (4.3.6)\n",
      "Requirement already satisfied: pytz>=2022.5 in /home/codespace/.local/lib/python3.12/site-packages (from yfinance) (2025.1)\n",
      "Collecting frozendict>=2.3.4 (from yfinance)\n",
      "  Downloading frozendict-2.4.6-py312-none-any.whl.metadata (23 kB)\n",
      "Collecting peewee>=3.16.2 (from yfinance)\n",
      "  Downloading peewee-3.18.1.tar.gz (3.0 MB)\n",
      "\u001b[2K     \u001b[90m━━━━━━━━━━━━━━━━━━━━━━━━━━━━━━━━━━━━━━━━\u001b[0m \u001b[32m3.0/3.0 MB\u001b[0m \u001b[31m48.8 MB/s\u001b[0m eta \u001b[36m0:00:00\u001b[0m\n",
      "\u001b[?25h  Installing build dependencies ... \u001b[?25ldone\n",
      "\u001b[?25h  Getting requirements to build wheel ... \u001b[?25ldone\n",
      "\u001b[?25h  Preparing metadata (pyproject.toml) ... \u001b[?25ldone\n",
      "\u001b[?25hRequirement already satisfied: beautifulsoup4>=4.11.1 in /home/codespace/.local/lib/python3.12/site-packages (from yfinance) (4.13.3)\n",
      "Collecting curl_cffi>=0.7 (from yfinance)\n",
      "  Downloading curl_cffi-0.11.1-cp39-abi3-manylinux_2_17_x86_64.manylinux2014_x86_64.whl.metadata (14 kB)\n",
      "Collecting protobuf>=3.19.0 (from yfinance)\n",
      "  Downloading protobuf-6.31.0-cp39-abi3-manylinux2014_x86_64.whl.metadata (593 bytes)\n",
      "Collecting websockets>=13.0 (from yfinance)\n",
      "  Downloading websockets-15.0.1-cp312-cp312-manylinux_2_5_x86_64.manylinux1_x86_64.manylinux_2_17_x86_64.manylinux2014_x86_64.whl.metadata (6.8 kB)\n",
      "Requirement already satisfied: soupsieve>1.2 in /home/codespace/.local/lib/python3.12/site-packages (from beautifulsoup4>=4.11.1->yfinance) (2.6)\n",
      "Requirement already satisfied: typing-extensions>=4.0.0 in /home/codespace/.local/lib/python3.12/site-packages (from beautifulsoup4>=4.11.1->yfinance) (4.12.2)\n",
      "Requirement already satisfied: cffi>=1.12.0 in /home/codespace/.local/lib/python3.12/site-packages (from curl_cffi>=0.7->yfinance) (1.17.1)\n",
      "Requirement already satisfied: certifi>=2024.2.2 in /home/codespace/.local/lib/python3.12/site-packages (from curl_cffi>=0.7->yfinance) (2025.1.31)\n",
      "Requirement already satisfied: python-dateutil>=2.8.2 in /home/codespace/.local/lib/python3.12/site-packages (from pandas>=1.3.0->yfinance) (2.9.0.post0)\n",
      "Requirement already satisfied: tzdata>=2022.7 in /home/codespace/.local/lib/python3.12/site-packages (from pandas>=1.3.0->yfinance) (2025.1)\n",
      "Requirement already satisfied: charset-normalizer<4,>=2 in /home/codespace/.local/lib/python3.12/site-packages (from requests>=2.31->yfinance) (3.4.1)\n",
      "Requirement already satisfied: idna<4,>=2.5 in /home/codespace/.local/lib/python3.12/site-packages (from requests>=2.31->yfinance) (3.10)\n",
      "Requirement already satisfied: urllib3<3,>=1.21.1 in /home/codespace/.local/lib/python3.12/site-packages (from requests>=2.31->yfinance) (2.3.0)\n",
      "Requirement already satisfied: pycparser in /home/codespace/.local/lib/python3.12/site-packages (from cffi>=1.12.0->curl_cffi>=0.7->yfinance) (2.22)\n",
      "Requirement already satisfied: six>=1.5 in /home/codespace/.local/lib/python3.12/site-packages (from python-dateutil>=2.8.2->pandas>=1.3.0->yfinance) (1.17.0)\n",
      "Downloading yfinance-0.2.61-py2.py3-none-any.whl (117 kB)\n",
      "Downloading curl_cffi-0.11.1-cp39-abi3-manylinux_2_17_x86_64.manylinux2014_x86_64.whl (8.5 MB)\n",
      "\u001b[2K   \u001b[90m━━━━━━━━━━━━━━━━━━━━━━━━━━━━━━━━━━━━━━━━\u001b[0m \u001b[32m8.5/8.5 MB\u001b[0m \u001b[31m51.4 MB/s\u001b[0m eta \u001b[36m0:00:00\u001b[0m\n",
      "\u001b[?25hDownloading frozendict-2.4.6-py312-none-any.whl (16 kB)\n",
      "Downloading multitasking-0.0.11-py3-none-any.whl (8.5 kB)\n",
      "Downloading protobuf-6.31.0-cp39-abi3-manylinux2014_x86_64.whl (320 kB)\n",
      "Downloading websockets-15.0.1-cp312-cp312-manylinux_2_5_x86_64.manylinux1_x86_64.manylinux_2_17_x86_64.manylinux2014_x86_64.whl (182 kB)\n",
      "Building wheels for collected packages: peewee\n",
      "  Building wheel for peewee (pyproject.toml) ... \u001b[?25ldone\n",
      "\u001b[?25h  Created wheel for peewee: filename=peewee-3.18.1-cp312-cp312-linux_x86_64.whl size=1029206 sha256=4fbecea2c073a9b9c21ea97f791dfe1700153622c8b5167288f82c72809e6eba\n",
      "  Stored in directory: /home/codespace/.cache/pip/wheels/1a/57/6a/bb71346381d0d911cd4ce3026f1fa720da76707e4f01cf27dd\n",
      "Successfully built peewee\n",
      "Installing collected packages: peewee, multitasking, websockets, protobuf, frozendict, curl_cffi, yfinance\n",
      "Successfully installed curl_cffi-0.11.1 frozendict-2.4.6 multitasking-0.0.11 peewee-3.18.1 protobuf-6.31.0 websockets-15.0.1 yfinance-0.2.61\n",
      "\n",
      "\u001b[1m[\u001b[0m\u001b[34;49mnotice\u001b[0m\u001b[1;39;49m]\u001b[0m\u001b[39;49m A new release of pip is available: \u001b[0m\u001b[31;49m25.0.1\u001b[0m\u001b[39;49m -> \u001b[0m\u001b[32;49m25.1.1\u001b[0m\n",
      "\u001b[1m[\u001b[0m\u001b[34;49mnotice\u001b[0m\u001b[1;39;49m]\u001b[0m\u001b[39;49m To update, run: \u001b[0m\u001b[32;49mpython3 -m pip install --upgrade pip\u001b[0m\n"
     ]
    }
   ],
   "source": [
    "!pip install yfinance"
   ]
  },
  {
   "cell_type": "code",
   "execution_count": 8,
   "id": "f0cc84e9",
   "metadata": {},
   "outputs": [
    {
     "name": "stdout",
     "output_type": "stream",
     "text": [
      "\n",
      "S&P 500 YTD return: -5.1 %\n",
      "Indexes that performed better: ['China', 'Hong Kong', 'Australia', 'India', 'Canada', 'Germany', 'UK', 'Mexico', 'Brazil']\n",
      "Count: 9\n"
     ]
    },
    {
     "name": "stderr",
     "output_type": "stream",
     "text": [
      "/tmp/ipykernel_8334/3133867992.py:16: FutureWarning: Calling float on a single element Series is deprecated and will raise a TypeError in the future. Use float(ser.iloc[0]) instead\n",
      "  start_price = float(df['Close'].iloc[0])\n",
      "/tmp/ipykernel_8334/3133867992.py:17: FutureWarning: Calling float on a single element Series is deprecated and will raise a TypeError in the future. Use float(ser.iloc[0]) instead\n",
      "  end_price = float(df['Close'].iloc[-1])\n",
      "/tmp/ipykernel_8334/3133867992.py:16: FutureWarning: Calling float on a single element Series is deprecated and will raise a TypeError in the future. Use float(ser.iloc[0]) instead\n",
      "  start_price = float(df['Close'].iloc[0])\n",
      "/tmp/ipykernel_8334/3133867992.py:17: FutureWarning: Calling float on a single element Series is deprecated and will raise a TypeError in the future. Use float(ser.iloc[0]) instead\n",
      "  end_price = float(df['Close'].iloc[-1])\n",
      "/tmp/ipykernel_8334/3133867992.py:16: FutureWarning: Calling float on a single element Series is deprecated and will raise a TypeError in the future. Use float(ser.iloc[0]) instead\n",
      "  start_price = float(df['Close'].iloc[0])\n",
      "/tmp/ipykernel_8334/3133867992.py:17: FutureWarning: Calling float on a single element Series is deprecated and will raise a TypeError in the future. Use float(ser.iloc[0]) instead\n",
      "  end_price = float(df['Close'].iloc[-1])\n",
      "/tmp/ipykernel_8334/3133867992.py:16: FutureWarning: Calling float on a single element Series is deprecated and will raise a TypeError in the future. Use float(ser.iloc[0]) instead\n",
      "  start_price = float(df['Close'].iloc[0])\n",
      "/tmp/ipykernel_8334/3133867992.py:17: FutureWarning: Calling float on a single element Series is deprecated and will raise a TypeError in the future. Use float(ser.iloc[0]) instead\n",
      "  end_price = float(df['Close'].iloc[-1])\n",
      "/tmp/ipykernel_8334/3133867992.py:16: FutureWarning: Calling float on a single element Series is deprecated and will raise a TypeError in the future. Use float(ser.iloc[0]) instead\n",
      "  start_price = float(df['Close'].iloc[0])\n",
      "/tmp/ipykernel_8334/3133867992.py:17: FutureWarning: Calling float on a single element Series is deprecated and will raise a TypeError in the future. Use float(ser.iloc[0]) instead\n",
      "  end_price = float(df['Close'].iloc[-1])\n",
      "/tmp/ipykernel_8334/3133867992.py:16: FutureWarning: Calling float on a single element Series is deprecated and will raise a TypeError in the future. Use float(ser.iloc[0]) instead\n",
      "  start_price = float(df['Close'].iloc[0])\n",
      "/tmp/ipykernel_8334/3133867992.py:17: FutureWarning: Calling float on a single element Series is deprecated and will raise a TypeError in the future. Use float(ser.iloc[0]) instead\n",
      "  end_price = float(df['Close'].iloc[-1])\n",
      "/tmp/ipykernel_8334/3133867992.py:16: FutureWarning: Calling float on a single element Series is deprecated and will raise a TypeError in the future. Use float(ser.iloc[0]) instead\n",
      "  start_price = float(df['Close'].iloc[0])\n",
      "/tmp/ipykernel_8334/3133867992.py:17: FutureWarning: Calling float on a single element Series is deprecated and will raise a TypeError in the future. Use float(ser.iloc[0]) instead\n",
      "  end_price = float(df['Close'].iloc[-1])\n",
      "/tmp/ipykernel_8334/3133867992.py:16: FutureWarning: Calling float on a single element Series is deprecated and will raise a TypeError in the future. Use float(ser.iloc[0]) instead\n",
      "  start_price = float(df['Close'].iloc[0])\n",
      "/tmp/ipykernel_8334/3133867992.py:17: FutureWarning: Calling float on a single element Series is deprecated and will raise a TypeError in the future. Use float(ser.iloc[0]) instead\n",
      "  end_price = float(df['Close'].iloc[-1])\n",
      "/tmp/ipykernel_8334/3133867992.py:16: FutureWarning: Calling float on a single element Series is deprecated and will raise a TypeError in the future. Use float(ser.iloc[0]) instead\n",
      "  start_price = float(df['Close'].iloc[0])\n",
      "/tmp/ipykernel_8334/3133867992.py:17: FutureWarning: Calling float on a single element Series is deprecated and will raise a TypeError in the future. Use float(ser.iloc[0]) instead\n",
      "  end_price = float(df['Close'].iloc[-1])\n",
      "/tmp/ipykernel_8334/3133867992.py:16: FutureWarning: Calling float on a single element Series is deprecated and will raise a TypeError in the future. Use float(ser.iloc[0]) instead\n",
      "  start_price = float(df['Close'].iloc[0])\n",
      "/tmp/ipykernel_8334/3133867992.py:17: FutureWarning: Calling float on a single element Series is deprecated and will raise a TypeError in the future. Use float(ser.iloc[0]) instead\n",
      "  end_price = float(df['Close'].iloc[-1])\n",
      "/tmp/ipykernel_8334/3133867992.py:16: FutureWarning: Calling float on a single element Series is deprecated and will raise a TypeError in the future. Use float(ser.iloc[0]) instead\n",
      "  start_price = float(df['Close'].iloc[0])\n",
      "/tmp/ipykernel_8334/3133867992.py:17: FutureWarning: Calling float on a single element Series is deprecated and will raise a TypeError in the future. Use float(ser.iloc[0]) instead\n",
      "  end_price = float(df['Close'].iloc[-1])\n"
     ]
    }
   ],
   "source": [
    "import yfinance as yf\n",
    "\n",
    "tickers = {\n",
    "    'US': '^GSPC', 'China': '000001.SS', 'Hong Kong': '^HSI', 'Australia': '^AXJO',\n",
    "    'India': '^NSEI', 'Canada': '^GSPTSE', 'Germany': '^GDAXI', 'UK': '^FTSE',\n",
    "    'Japan': '^N225', 'Mexico': '^MXX', 'Brazil': '^BVSP'\n",
    "}\n",
    "\n",
    "returns = {}\n",
    "\n",
    "for country, ticker in tickers.items():\n",
    "    df = yf.download(ticker, start='2025-01-01', end='2025-05-01', progress=False, auto_adjust=True)\n",
    "    \n",
    "    if not df.empty and 'Close' in df.columns and len(df) > 1:\n",
    "        try:\n",
    "            start_price = float(df['Close'].iloc[0])\n",
    "            end_price = float(df['Close'].iloc[-1])\n",
    "            returns[country] = (end_price - start_price) / start_price\n",
    "        except Exception as e:\n",
    "            print(f\"{country}: Error computing return: {e}\")\n",
    "    else:\n",
    "        print(f\"{country}: Data not available\")\n",
    "\n",
    "# Safely compare only if US return exists\n",
    "us_return = returns.get('US', None)\n",
    "if us_return is not None:\n",
    "    better_than_us = [k for k, v in returns.items() if k != 'US' and isinstance(v, float) and v > us_return]\n",
    "    \n",
    "    print(\"\\nS&P 500 YTD return:\", round(us_return * 100, 2), \"%\")\n",
    "    print(\"Indexes that performed better:\", better_than_us)\n",
    "    print(\"Count:\", len(better_than_us))\n",
    "else:\n",
    "    print(\"Could not retrieve US return.\")\n"
   ]
  },
  {
   "cell_type": "code",
   "execution_count": 8,
   "id": "bd35b6e1",
   "metadata": {},
   "outputs": [],
   "source": [
    "url = 'https://stooq.com/q/d/l/?s=^spx&i=d'\n",
    "df = pd.read_csv(url)\n",
    "df.to_csv('data/sp500_stooq.csv', index=False)\n"
   ]
  },
  {
   "cell_type": "code",
   "execution_count": 10,
   "id": "10dd69c1",
   "metadata": {},
   "outputs": [
    {
     "name": "stdout",
     "output_type": "stream",
     "text": [
      " Correction durations (in days):\n",
      "25th percentile: 42.75\n",
      "Median: 112.5\n",
      "75th percentile: 537.0\n"
     ]
    }
   ],
   "source": [
    "import pandas as pd\n",
    "\n",
    "# Load the data\n",
    "df = pd.read_csv(\"data/sp500_stooq.csv\", parse_dates=[\"Date\"])\n",
    "df = df.sort_values(\"Date\").reset_index(drop=True)\n",
    "\n",
    "# Keep only 'Date' and 'Close'\n",
    "df = df[[\"Date\", \"Close\"]].dropna()\n",
    "\n",
    "# Ensure 'Close' is numeric\n",
    "df[\"Close\"] = pd.to_numeric(df[\"Close\"], errors=\"coerce\")\n",
    "\n",
    "# Calculate All-Time High (ATH) and drawdowns\n",
    "df[\"ATH\"] = df[\"Close\"].cummax()\n",
    "df[\"Drawdown\"] = (df[\"Close\"] - df[\"ATH\"]) / df[\"ATH\"]\n",
    "\n",
    "# Identify corrections >5% drawdown\n",
    "corrections = []\n",
    "in_correction = False\n",
    "start_date = None\n",
    "\n",
    "for i in range(1, len(df)):\n",
    "    if not in_correction and df.loc[i, \"Drawdown\"] < -0.05:\n",
    "        in_correction = True\n",
    "        start_date = df.loc[i - 1, \"Date\"]\n",
    "    elif in_correction and df.loc[i, \"Close\"] >= df.loc[i - 1, \"ATH\"]:\n",
    "        end_date = df.loc[i, \"Date\"]\n",
    "        duration = (end_date - start_date).days\n",
    "        corrections.append(duration)\n",
    "        in_correction = False\n",
    "\n",
    "# Analyze durations\n",
    "durations = pd.Series(corrections)\n",
    "print(\" Correction durations (in days):\")\n",
    "print(\"25th percentile:\", durations.quantile(0.25))\n",
    "print(\"Median:\", durations.median())\n",
    "print(\"75th percentile:\", durations.quantile(0.75))\n"
   ]
  },
  {
   "cell_type": "code",
   "execution_count": 14,
   "id": "c8bbb2a4",
   "metadata": {},
   "outputs": [
    {
     "name": "stdout",
     "output_type": "stream",
     "text": [
      "Median 2-day return after positive earnings surprises: 0.0201\n",
      " Median 2-day return across all days: 0.0022\n"
     ]
    }
   ],
   "source": [
    "import pandas as pd\n",
    "import yfinance as yf\n",
    "\n",
    "# Load and clean earnings data\n",
    "df = pd.read_csv(\"data/ha1_Amazon.csv\", sep=\";\")\n",
    "df.rename(columns={\n",
    "    \"Earnings Date\": \"Date\",\n",
    "    \"EPS Estimate\": \"Estimated EPS\",\n",
    "    \"Reported EPS\": \"Actual EPS\"\n",
    "}, inplace=True)\n",
    "\n",
    "# Fix date format with EDT time\n",
    "df[\"Date\"] = pd.to_datetime(df[\"Date\"].str.replace(r\"\\s+at.*\", \"\", regex=True), errors=\"coerce\")\n",
    "df[\"Surprise\"] = df[\"Actual EPS\"] > df[\"Estimated EPS\"]\n",
    "df = df.reset_index(drop=True)\n",
    "\n",
    "# Download Amazon stock data\n",
    "amzn = yf.download(\"AMZN\", start=\"2010-01-01\", end=\"2025-05-02\", progress=False)\n",
    "amzn[\"2d_return\"] = amzn[\"Close\"].shift(-2) / amzn[\"Close\"] - 1\n",
    "amzn = amzn.reset_index()\n",
    "\n",
    "# Flatten MultiIndex if needed\n",
    "if isinstance(amzn.columns, pd.MultiIndex):\n",
    "    amzn.columns = amzn.columns.get_level_values(0)\n",
    "\n",
    "# Merge\n",
    "merged = pd.merge(df, amzn, on=\"Date\", how=\"inner\")\n",
    "\n",
    "# Calculate medians\n",
    "positive_median = merged[merged[\"Surprise\"]][\"2d_return\"].median()\n",
    "all_median = amzn[\"2d_return\"].median()\n",
    "\n",
    "print(f\"Median 2-day return after positive earnings surprises: {positive_median:.4f}\")\n",
    "print(f\" Median 2-day return across all days: {all_median:.4f}\")\n"
   ]
  }
 ],
 "metadata": {
  "kernelspec": {
   "display_name": "Python 3",
   "language": "python",
   "name": "python3"
  },
  "language_info": {
   "codemirror_mode": {
    "name": "ipython",
    "version": 3
   },
   "file_extension": ".py",
   "mimetype": "text/x-python",
   "name": "python",
   "nbconvert_exporter": "python",
   "pygments_lexer": "ipython3",
   "version": "3.12.1"
  }
 },
 "nbformat": 4,
 "nbformat_minor": 5
}
